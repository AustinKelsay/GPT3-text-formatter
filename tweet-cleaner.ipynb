{
 "cells": [
  {
   "cell_type": "code",
   "execution_count": 17,
   "source": [
    "# Python code to find the URL from an input string\n",
    "# Using the regular expression\n",
    "import re\n",
    "import json\n",
    "\n",
    "def Find(string):\n",
    "\n",
    "\t# findall() has been used\n",
    "\t# with valid conditions for urls in string\n",
    "\tregex = r\"(?i)\\b((?:https?://|www\\d{0,3}[.]|[a-z0-9.\\-]+[.][a-z]{2,4}/)(?:[^\\s()<>]+|\\(([^\\s()<>]+|(\\([^\\s()<>]+\\)))*\\))+(?:\\(([^\\s()<>]+|(\\([^\\s()<>]+\\)))*\\)|[^\\s`!()\\[\\]{};:'\\\".,<>?«»“”‘’]))\"\n",
    "\turl = re.findall(regex,string)\t\n",
    "\treturn [x[0] for x in url]\n",
    "\t\n",
    "# Driver Code\n",
    "string = \"Last chance to grab your free ticket for Sunday's Marcus Aurelius virtual conference.  #Stoicism https://t.co/gnXZP45KO4\"\n",
    "print(\"Urls: \", Find(string))\n",
    "\n"
   ],
   "outputs": [
    {
     "output_type": "stream",
     "name": "stdout",
     "text": [
      "Urls:  ['https://t.co/gnXZP45KO4']\n"
     ]
    }
   ],
   "metadata": {}
  },
  {
   "cell_type": "code",
   "execution_count": 18,
   "source": [
    "pattern = r\"(?i)\\b((?:https?://|www\\d{0,3}[.]|[a-z0-9.\\-]+[.][a-z]{2,4}/)(?:[^\\s()<>]+|\\(([^\\s()<>]+|(\\([^\\s()<>]+\\)))*\\))+(?:\\(([^\\s()<>]+|(\\([^\\s()<>]+\\)))*\\)|[^\\s`!()\\[\\]{};:'\\\".,<>?«»“”‘’]))\"\n",
    "tweetz = []\n",
    "\n",
    "with open('tweets.json') as f:\n",
    "    for obj in f:\n",
    "        tweet = json.loads(obj)\n",
    "        mod_string = re.sub(pattern, '', tweet['text'])\n",
    "        tweet['text'] = mod_string\n",
    "        tweetz.append(tweet)"
   ],
   "outputs": [],
   "metadata": {}
  },
  {
   "cell_type": "code",
   "execution_count": null,
   "source": [
    "with open(\"tweets_cleaned.json\", \"w\") as f:\n",
    "    for ticket in tweetz:\n",
    "        json.dump(ticket, f)\n",
    "        f.write(\"\\n\")"
   ],
   "outputs": [],
   "metadata": {}
  }
 ],
 "metadata": {
  "orig_nbformat": 4,
  "language_info": {
   "name": "python",
   "version": "3.8.5",
   "mimetype": "text/x-python",
   "codemirror_mode": {
    "name": "ipython",
    "version": 3
   },
   "pygments_lexer": "ipython3",
   "nbconvert_exporter": "python",
   "file_extension": ".py"
  },
  "kernelspec": {
   "name": "python3",
   "display_name": "Python 3.8.5 64-bit ('base': conda)"
  },
  "interpreter": {
   "hash": "58b2b68eb5cb9589b4c7d31af091abf4e221de8a2b90868b43f9b9f1f5b7d15c"
  }
 },
 "nbformat": 4,
 "nbformat_minor": 2
}